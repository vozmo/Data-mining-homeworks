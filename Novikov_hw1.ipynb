{
 "cells": [
  {
   "cell_type": "markdown",
   "metadata": {},
   "source": [
    "**Общая информация**\n",
    "\n",
    "**Срок сдачи:** 18 октября 2017, 06:00 <br\\>\n",
    "**Штраф за опоздание:** -2 балла после 06:00 18 октября, -4 балла после 06:00 25 октября, -6 баллов после 06:00 1 ноября\n",
    "\n",
    "При отправлении ДЗ указывайте фамилию в названии файла\n",
    "Присылать ДЗ необходимо в виде ссылки на свой github репозиторий в slack @alkhamush\n",
    "\n",
    "Необходимо в slack создать таск в приватный чат:\n",
    "/todo Фамилия Имя ссылка на гитхаб @alkhamush\n",
    "Пример:\n",
    "/todo Ксения Стройкова https://github.com/stroykova/spheremailru/stroykova_hw1.ipynb @alkhamush\n",
    "Дополнительно нужно просто скинуть ссылку в slack в личный чат\n",
    "\n",
    "Используйте данный Ipython Notebook при оформлении домашнего задания."
   ]
  },
  {
   "cell_type": "markdown",
   "metadata": {},
   "source": [
    "###### Задание 1 (2 баллов)\n",
    "Реализовать KNN в классе MyKNeighborsClassifier (обязательное условие: точность не ниже sklearn реализации)\n",
    "Разберитесь самостоятельно, какая мера расстояния используется в KNeighborsClassifier дефолтно и реализуйте свой алгоритм именно с этой мерой. Самостоятельно разберитесь, как считается score из KNeighborsClassifier и реализуйте аналог в своём классе. Score не должен уступать значению KNN из sklearn\n",
    "\n",
    "###### Задание 2 (2 балла)\n",
    "Добиться скорости работы на fit,  predict и predict_proba сравнимой со sklearn для iris и mnist\n",
    "Для этого используем numpy\n",
    "\n",
    "###### Задание 3 (2 балла)\n",
    "Для iris найдите такой параметр n_neighbors, при котором выдаётся наилучший score. Нарисуйте график зависимости score от n_neighbors\n",
    "\n",
    "###### Задание 4 (3 балла)\n",
    "Добавить algorithm='kd_tree' в реализацию KNN (использовать KDTree из sklearn.neighbors). Значение n_neighbors нужно взять из задания 3. Добиться скорости работы на fit,  predict и predict_proba сравнимой со sklearn для iris и mnist\n",
    "Для этого используем numpy. Score не должен уступать значению KNN из sklearn\n",
    "\n",
    "###### Задание 5 (1 балла)\n",
    "Описать для чего нужны следующие библиотеки/классы/функции (список будет ниже)\n",
    "\n",
    "**Штрафные баллы:**\n",
    "\n",
    "1. Невыполнение PEP8 -1 балл\n",
    "2. Отсутствие фамилии в имени скрипта (скрипт должен называться по аналогии со stroykova_hw1.ipynb) -1 балл\n",
    "3. Все строчки должны быть выполнены. Нужно, чтобы output команды можно было увидеть уже в git'е. В противном случае -1 балл\n",
    "4. При оформлении ДЗ нужно пользоваться данным файлом в качестве шаблона. Не нужно удалять и видоизменять структуру кода и текст. В противном случае -1 балл\n"
   ]
  },
  {
   "cell_type": "code",
   "execution_count": 3,
   "metadata": {},
   "outputs": [
    {
     "name": "stdout",
     "output_type": "stream",
     "text": [
      "The pycodestyle_magic extension is already loaded. To reload it, use:\n",
      "  %reload_ext pycodestyle_magic\n"
     ]
    }
   ],
   "source": [
    "import numpy as np\n",
    "import matplotlib.pyplot as plt\n",
    "\n",
    "import seaborn as sns\n",
    "from sklearn import datasets\n",
    "from sklearn.base import ClassifierMixin\n",
    "from sklearn.datasets import fetch_mldata\n",
    "from sklearn.neighbors.base import NeighborsBase, KNeighborsMixin, SupervisedIntegerMixin \n",
    "from sklearn.model_selection import train_test_split\n",
    "from sklearn.neighbors import KNeighborsClassifier\n",
    "%load_ext pycodestyle_magic"
   ]
  },
  {
   "cell_type": "code",
   "execution_count": 18,
   "metadata": {},
   "outputs": [],
   "source": [
    "# %%pycodestyle\n",
    "from sklearn.neighbors import KDTree\n",
    "from sklearn.metrics import pairwise_distances\n",
    "\n",
    "\n",
    "class MyKNeighborsClassifier(NeighborsBase, KNeighborsMixin,\n",
    "                             SupervisedIntegerMixin, ClassifierMixin):\n",
    "\n",
    "    def __init__(self, n_neighbors, algorithm='brute'):\n",
    "        self.current_algorithm = algorithm\n",
    "        self.nghbrs = int(n_neighbors)\n",
    "\n",
    "    def fit(self, X, y):\n",
    "        self.X_for_learning = np.array(X)\n",
    "        self.y_for_learning = np.array(y)\n",
    "        if self.current_algorithm == 'kd_tree':\n",
    "            self.kdtree = KDTree(self.X_for_learning)\n",
    "\n",
    "    def predict(self, X):\n",
    "        if self.current_algorithm == 'kd_tree':\n",
    "            positions = self.kdtree.query(X, self.nghbrs)[1]\n",
    "        else:\n",
    "            dists = pairwise_distances(X, self.X_for_learning)\n",
    "            positions = dists.argpartition(self.nghbrs)[:, :self.nghbrs]\n",
    "        neighbor_classes = np.array(self.y_for_learning[positions])\n",
    "        return np.array([np.argmax(np.bincount(i)) for i in neighbor_classes])\n",
    "\n",
    "    def predict_proba(self, X):\n",
    "        if self.current_algorithm == 'kd_tree':\n",
    "            positions = self.kdtree.query(X, k=self.nghbrs)[1]\n",
    "        else:\n",
    "            dists = pairwise_distances(X, self.X_for_learning)\n",
    "            positions = dists.argpartition(self.nghbrs)[:, :self.nghbrs]\n",
    "        nc = np.array(self.y_for_learning[positions])\n",
    "        ml = len(set(self.y_for_learning))\n",
    "        npa = np.array([np.bincount(i, minlength=ml) for i in nc])\n",
    "        return npa / self.nghbrs\n",
    "\n",
    "    def score(self, X, y):\n",
    "        return np.average(y == self.predict(X))"
   ]
  },
  {
   "cell_type": "markdown",
   "metadata": {},
   "source": [
    "**IRIS**"
   ]
  },
  {
   "cell_type": "code",
   "execution_count": 19,
   "metadata": {},
   "outputs": [
    {
     "name": "stdout",
     "output_type": "stream",
     "text": [
      "{'data': array([[5.1, 3.5, 1.4, 0.2],\n",
      "       [4.9, 3. , 1.4, 0.2],\n",
      "       [4.7, 3.2, 1.3, 0.2],\n",
      "       [4.6, 3.1, 1.5, 0.2],\n",
      "       [5. , 3.6, 1.4, 0.2],\n",
      "       [5.4, 3.9, 1.7, 0.4],\n",
      "       [4.6, 3.4, 1.4, 0.3],\n",
      "       [5. , 3.4, 1.5, 0.2],\n",
      "       [4.4, 2.9, 1.4, 0.2],\n",
      "       [4.9, 3.1, 1.5, 0.1],\n",
      "       [5.4, 3.7, 1.5, 0.2],\n",
      "       [4.8, 3.4, 1.6, 0.2],\n",
      "       [4.8, 3. , 1.4, 0.1],\n",
      "       [4.3, 3. , 1.1, 0.1],\n",
      "       [5.8, 4. , 1.2, 0.2],\n",
      "       [5.7, 4.4, 1.5, 0.4],\n",
      "       [5.4, 3.9, 1.3, 0.4],\n",
      "       [5.1, 3.5, 1.4, 0.3],\n",
      "       [5.7, 3.8, 1.7, 0.3],\n",
      "       [5.1, 3.8, 1.5, 0.3],\n",
      "       [5.4, 3.4, 1.7, 0.2],\n",
      "       [5.1, 3.7, 1.5, 0.4],\n",
      "       [4.6, 3.6, 1. , 0.2],\n",
      "       [5.1, 3.3, 1.7, 0.5],\n",
      "       [4.8, 3.4, 1.9, 0.2],\n",
      "       [5. , 3. , 1.6, 0.2],\n",
      "       [5. , 3.4, 1.6, 0.4],\n",
      "       [5.2, 3.5, 1.5, 0.2],\n",
      "       [5.2, 3.4, 1.4, 0.2],\n",
      "       [4.7, 3.2, 1.6, 0.2],\n",
      "       [4.8, 3.1, 1.6, 0.2],\n",
      "       [5.4, 3.4, 1.5, 0.4],\n",
      "       [5.2, 4.1, 1.5, 0.1],\n",
      "       [5.5, 4.2, 1.4, 0.2],\n",
      "       [4.9, 3.1, 1.5, 0.1],\n",
      "       [5. , 3.2, 1.2, 0.2],\n",
      "       [5.5, 3.5, 1.3, 0.2],\n",
      "       [4.9, 3.1, 1.5, 0.1],\n",
      "       [4.4, 3. , 1.3, 0.2],\n",
      "       [5.1, 3.4, 1.5, 0.2],\n",
      "       [5. , 3.5, 1.3, 0.3],\n",
      "       [4.5, 2.3, 1.3, 0.3],\n",
      "       [4.4, 3.2, 1.3, 0.2],\n",
      "       [5. , 3.5, 1.6, 0.6],\n",
      "       [5.1, 3.8, 1.9, 0.4],\n",
      "       [4.8, 3. , 1.4, 0.3],\n",
      "       [5.1, 3.8, 1.6, 0.2],\n",
      "       [4.6, 3.2, 1.4, 0.2],\n",
      "       [5.3, 3.7, 1.5, 0.2],\n",
      "       [5. , 3.3, 1.4, 0.2],\n",
      "       [7. , 3.2, 4.7, 1.4],\n",
      "       [6.4, 3.2, 4.5, 1.5],\n",
      "       [6.9, 3.1, 4.9, 1.5],\n",
      "       [5.5, 2.3, 4. , 1.3],\n",
      "       [6.5, 2.8, 4.6, 1.5],\n",
      "       [5.7, 2.8, 4.5, 1.3],\n",
      "       [6.3, 3.3, 4.7, 1.6],\n",
      "       [4.9, 2.4, 3.3, 1. ],\n",
      "       [6.6, 2.9, 4.6, 1.3],\n",
      "       [5.2, 2.7, 3.9, 1.4],\n",
      "       [5. , 2. , 3.5, 1. ],\n",
      "       [5.9, 3. , 4.2, 1.5],\n",
      "       [6. , 2.2, 4. , 1. ],\n",
      "       [6.1, 2.9, 4.7, 1.4],\n",
      "       [5.6, 2.9, 3.6, 1.3],\n",
      "       [6.7, 3.1, 4.4, 1.4],\n",
      "       [5.6, 3. , 4.5, 1.5],\n",
      "       [5.8, 2.7, 4.1, 1. ],\n",
      "       [6.2, 2.2, 4.5, 1.5],\n",
      "       [5.6, 2.5, 3.9, 1.1],\n",
      "       [5.9, 3.2, 4.8, 1.8],\n",
      "       [6.1, 2.8, 4. , 1.3],\n",
      "       [6.3, 2.5, 4.9, 1.5],\n",
      "       [6.1, 2.8, 4.7, 1.2],\n",
      "       [6.4, 2.9, 4.3, 1.3],\n",
      "       [6.6, 3. , 4.4, 1.4],\n",
      "       [6.8, 2.8, 4.8, 1.4],\n",
      "       [6.7, 3. , 5. , 1.7],\n",
      "       [6. , 2.9, 4.5, 1.5],\n",
      "       [5.7, 2.6, 3.5, 1. ],\n",
      "       [5.5, 2.4, 3.8, 1.1],\n",
      "       [5.5, 2.4, 3.7, 1. ],\n",
      "       [5.8, 2.7, 3.9, 1.2],\n",
      "       [6. , 2.7, 5.1, 1.6],\n",
      "       [5.4, 3. , 4.5, 1.5],\n",
      "       [6. , 3.4, 4.5, 1.6],\n",
      "       [6.7, 3.1, 4.7, 1.5],\n",
      "       [6.3, 2.3, 4.4, 1.3],\n",
      "       [5.6, 3. , 4.1, 1.3],\n",
      "       [5.5, 2.5, 4. , 1.3],\n",
      "       [5.5, 2.6, 4.4, 1.2],\n",
      "       [6.1, 3. , 4.6, 1.4],\n",
      "       [5.8, 2.6, 4. , 1.2],\n",
      "       [5. , 2.3, 3.3, 1. ],\n",
      "       [5.6, 2.7, 4.2, 1.3],\n",
      "       [5.7, 3. , 4.2, 1.2],\n",
      "       [5.7, 2.9, 4.2, 1.3],\n",
      "       [6.2, 2.9, 4.3, 1.3],\n",
      "       [5.1, 2.5, 3. , 1.1],\n",
      "       [5.7, 2.8, 4.1, 1.3],\n",
      "       [6.3, 3.3, 6. , 2.5],\n",
      "       [5.8, 2.7, 5.1, 1.9],\n",
      "       [7.1, 3. , 5.9, 2.1],\n",
      "       [6.3, 2.9, 5.6, 1.8],\n",
      "       [6.5, 3. , 5.8, 2.2],\n",
      "       [7.6, 3. , 6.6, 2.1],\n",
      "       [4.9, 2.5, 4.5, 1.7],\n",
      "       [7.3, 2.9, 6.3, 1.8],\n",
      "       [6.7, 2.5, 5.8, 1.8],\n",
      "       [7.2, 3.6, 6.1, 2.5],\n",
      "       [6.5, 3.2, 5.1, 2. ],\n",
      "       [6.4, 2.7, 5.3, 1.9],\n",
      "       [6.8, 3. , 5.5, 2.1],\n",
      "       [5.7, 2.5, 5. , 2. ],\n",
      "       [5.8, 2.8, 5.1, 2.4],\n",
      "       [6.4, 3.2, 5.3, 2.3],\n",
      "       [6.5, 3. , 5.5, 1.8],\n",
      "       [7.7, 3.8, 6.7, 2.2],\n",
      "       [7.7, 2.6, 6.9, 2.3],\n",
      "       [6. , 2.2, 5. , 1.5],\n",
      "       [6.9, 3.2, 5.7, 2.3],\n",
      "       [5.6, 2.8, 4.9, 2. ],\n",
      "       [7.7, 2.8, 6.7, 2. ],\n",
      "       [6.3, 2.7, 4.9, 1.8],\n",
      "       [6.7, 3.3, 5.7, 2.1],\n",
      "       [7.2, 3.2, 6. , 1.8],\n",
      "       [6.2, 2.8, 4.8, 1.8],\n",
      "       [6.1, 3. , 4.9, 1.8],\n",
      "       [6.4, 2.8, 5.6, 2.1],\n",
      "       [7.2, 3. , 5.8, 1.6],\n",
      "       [7.4, 2.8, 6.1, 1.9],\n",
      "       [7.9, 3.8, 6.4, 2. ],\n",
      "       [6.4, 2.8, 5.6, 2.2],\n",
      "       [6.3, 2.8, 5.1, 1.5],\n",
      "       [6.1, 2.6, 5.6, 1.4],\n",
      "       [7.7, 3. , 6.1, 2.3],\n",
      "       [6.3, 3.4, 5.6, 2.4],\n",
      "       [6.4, 3.1, 5.5, 1.8],\n",
      "       [6. , 3. , 4.8, 1.8],\n",
      "       [6.9, 3.1, 5.4, 2.1],\n",
      "       [6.7, 3.1, 5.6, 2.4],\n",
      "       [6.9, 3.1, 5.1, 2.3],\n",
      "       [5.8, 2.7, 5.1, 1.9],\n",
      "       [6.8, 3.2, 5.9, 2.3],\n",
      "       [6.7, 3.3, 5.7, 2.5],\n",
      "       [6.7, 3. , 5.2, 2.3],\n",
      "       [6.3, 2.5, 5. , 1.9],\n",
      "       [6.5, 3. , 5.2, 2. ],\n",
      "       [6.2, 3.4, 5.4, 2.3],\n",
      "       [5.9, 3. , 5.1, 1.8]]), 'target': array([0, 0, 0, 0, 0, 0, 0, 0, 0, 0, 0, 0, 0, 0, 0, 0, 0, 0, 0, 0, 0, 0,\n",
      "       0, 0, 0, 0, 0, 0, 0, 0, 0, 0, 0, 0, 0, 0, 0, 0, 0, 0, 0, 0, 0, 0,\n",
      "       0, 0, 0, 0, 0, 0, 1, 1, 1, 1, 1, 1, 1, 1, 1, 1, 1, 1, 1, 1, 1, 1,\n",
      "       1, 1, 1, 1, 1, 1, 1, 1, 1, 1, 1, 1, 1, 1, 1, 1, 1, 1, 1, 1, 1, 1,\n",
      "       1, 1, 1, 1, 1, 1, 1, 1, 1, 1, 1, 1, 2, 2, 2, 2, 2, 2, 2, 2, 2, 2,\n",
      "       2, 2, 2, 2, 2, 2, 2, 2, 2, 2, 2, 2, 2, 2, 2, 2, 2, 2, 2, 2, 2, 2,\n",
      "       2, 2, 2, 2, 2, 2, 2, 2, 2, 2, 2, 2, 2, 2, 2, 2, 2, 2]), 'target_names': array(['setosa', 'versicolor', 'virginica'], dtype='<U10'), 'DESCR': 'Iris Plants Database\\n====================\\n\\nNotes\\n-----\\nData Set Characteristics:\\n    :Number of Instances: 150 (50 in each of three classes)\\n    :Number of Attributes: 4 numeric, predictive attributes and the class\\n    :Attribute Information:\\n        - sepal length in cm\\n        - sepal width in cm\\n        - petal length in cm\\n        - petal width in cm\\n        - class:\\n                - Iris-Setosa\\n                - Iris-Versicolour\\n                - Iris-Virginica\\n    :Summary Statistics:\\n\\n    ============== ==== ==== ======= ===== ====================\\n                    Min  Max   Mean    SD   Class Correlation\\n    ============== ==== ==== ======= ===== ====================\\n    sepal length:   4.3  7.9   5.84   0.83    0.7826\\n    sepal width:    2.0  4.4   3.05   0.43   -0.4194\\n    petal length:   1.0  6.9   3.76   1.76    0.9490  (high!)\\n    petal width:    0.1  2.5   1.20  0.76     0.9565  (high!)\\n    ============== ==== ==== ======= ===== ====================\\n\\n    :Missing Attribute Values: None\\n    :Class Distribution: 33.3% for each of 3 classes.\\n    :Creator: R.A. Fisher\\n    :Donor: Michael Marshall (MARSHALL%PLU@io.arc.nasa.gov)\\n    :Date: July, 1988\\n\\nThis is a copy of UCI ML iris datasets.\\nhttp://archive.ics.uci.edu/ml/datasets/Iris\\n\\nThe famous Iris database, first used by Sir R.A Fisher\\n\\nThis is perhaps the best known database to be found in the\\npattern recognition literature.  Fisher\\'s paper is a classic in the field and\\nis referenced frequently to this day.  (See Duda & Hart, for example.)  The\\ndata set contains 3 classes of 50 instances each, where each class refers to a\\ntype of iris plant.  One class is linearly separable from the other 2; the\\nlatter are NOT linearly separable from each other.\\n\\nReferences\\n----------\\n   - Fisher,R.A. \"The use of multiple measurements in taxonomic problems\"\\n     Annual Eugenics, 7, Part II, 179-188 (1936); also in \"Contributions to\\n     Mathematical Statistics\" (John Wiley, NY, 1950).\\n   - Duda,R.O., & Hart,P.E. (1973) Pattern Classification and Scene Analysis.\\n     (Q327.D83) John Wiley & Sons.  ISBN 0-471-22361-1.  See page 218.\\n   - Dasarathy, B.V. (1980) \"Nosing Around the Neighborhood: A New System\\n     Structure and Classification Rule for Recognition in Partially Exposed\\n     Environments\".  IEEE Transactions on Pattern Analysis and Machine\\n     Intelligence, Vol. PAMI-2, No. 1, 67-71.\\n   - Gates, G.W. (1972) \"The Reduced Nearest Neighbor Rule\".  IEEE Transactions\\n     on Information Theory, May 1972, 431-433.\\n   - See also: 1988 MLC Proceedings, 54-64.  Cheeseman et al\"s AUTOCLASS II\\n     conceptual clustering system finds 3 classes in the data.\\n   - Many, many more ...\\n', 'feature_names': ['sepal length (cm)', 'sepal width (cm)', 'petal length (cm)', 'petal width (cm)']}\n"
     ]
    }
   ],
   "source": [
    "iris = datasets.load_iris()\n",
    "print(iris)"
   ]
  },
  {
   "cell_type": "code",
   "execution_count": 23,
   "metadata": {},
   "outputs": [],
   "source": [
    "X_train, X_test, y_train, y_test = train_test_split(iris.data, iris.target, test_size=0.1, stratify=iris.target)"
   ]
  },
  {
   "cell_type": "code",
   "execution_count": 24,
   "metadata": {},
   "outputs": [],
   "source": [
    "clf = KNeighborsClassifier(n_neighbors=2)\n",
    "my_clf = MyKNeighborsClassifier(n_neighbors=2)"
   ]
  },
  {
   "cell_type": "code",
   "execution_count": 25,
   "metadata": {},
   "outputs": [
    {
     "name": "stdout",
     "output_type": "stream",
     "text": [
      "Wall time: 997 µs\n"
     ]
    },
    {
     "data": {
      "text/plain": [
       "KNeighborsClassifier(algorithm='auto', leaf_size=30, metric='minkowski',\n",
       "           metric_params=None, n_jobs=1, n_neighbors=2, p=2,\n",
       "           weights='uniform')"
      ]
     },
     "execution_count": 25,
     "metadata": {},
     "output_type": "execute_result"
    }
   ],
   "source": [
    "%time clf.fit(X_train, y_train)"
   ]
  },
  {
   "cell_type": "code",
   "execution_count": 26,
   "metadata": {},
   "outputs": [
    {
     "name": "stdout",
     "output_type": "stream",
     "text": [
      "Wall time: 0 ns\n"
     ]
    }
   ],
   "source": [
    "%time my_clf.fit(X_train, y_train)"
   ]
  },
  {
   "cell_type": "code",
   "execution_count": 27,
   "metadata": {},
   "outputs": [
    {
     "name": "stdout",
     "output_type": "stream",
     "text": [
      "Wall time: 1 ms\n"
     ]
    },
    {
     "data": {
      "text/plain": [
       "array([1, 0, 1, 2, 2, 1, 0, 0, 0, 1, 2, 0, 1, 1, 2])"
      ]
     },
     "execution_count": 27,
     "metadata": {},
     "output_type": "execute_result"
    }
   ],
   "source": [
    "%time clf.predict(X_test)"
   ]
  },
  {
   "cell_type": "code",
   "execution_count": 28,
   "metadata": {},
   "outputs": [
    {
     "name": "stdout",
     "output_type": "stream",
     "text": [
      "Wall time: 997 µs\n"
     ]
    },
    {
     "data": {
      "text/plain": [
       "array([1, 0, 1, 2, 2, 1, 0, 0, 0, 1, 2, 0, 1, 1, 2], dtype=int64)"
      ]
     },
     "execution_count": 28,
     "metadata": {},
     "output_type": "execute_result"
    }
   ],
   "source": [
    "%time my_clf.predict(X_test)"
   ]
  },
  {
   "cell_type": "code",
   "execution_count": 29,
   "metadata": {},
   "outputs": [
    {
     "name": "stdout",
     "output_type": "stream",
     "text": [
      "Wall time: 2 ms\n"
     ]
    },
    {
     "data": {
      "text/plain": [
       "array([[0., 1., 0.],\n",
       "       [1., 0., 0.],\n",
       "       [0., 1., 0.],\n",
       "       [0., 0., 1.],\n",
       "       [0., 0., 1.],\n",
       "       [0., 1., 0.],\n",
       "       [1., 0., 0.],\n",
       "       [1., 0., 0.],\n",
       "       [1., 0., 0.],\n",
       "       [0., 1., 0.],\n",
       "       [0., 0., 1.],\n",
       "       [1., 0., 0.],\n",
       "       [0., 1., 0.],\n",
       "       [0., 1., 0.],\n",
       "       [0., 0., 1.]])"
      ]
     },
     "execution_count": 29,
     "metadata": {},
     "output_type": "execute_result"
    }
   ],
   "source": [
    "%time clf.predict_proba(X_test)"
   ]
  },
  {
   "cell_type": "code",
   "execution_count": 30,
   "metadata": {},
   "outputs": [
    {
     "name": "stdout",
     "output_type": "stream",
     "text": [
      "Wall time: 2 ms\n"
     ]
    },
    {
     "data": {
      "text/plain": [
       "array([[0., 1., 0.],\n",
       "       [1., 0., 0.],\n",
       "       [0., 1., 0.],\n",
       "       [0., 0., 1.],\n",
       "       [0., 0., 1.],\n",
       "       [0., 1., 0.],\n",
       "       [1., 0., 0.],\n",
       "       [1., 0., 0.],\n",
       "       [1., 0., 0.],\n",
       "       [0., 1., 0.],\n",
       "       [0., 0., 1.],\n",
       "       [1., 0., 0.],\n",
       "       [0., 1., 0.],\n",
       "       [0., 1., 0.],\n",
       "       [0., 0., 1.]])"
      ]
     },
     "execution_count": 30,
     "metadata": {},
     "output_type": "execute_result"
    }
   ],
   "source": [
    "%time my_clf.predict_proba(X_test)"
   ]
  },
  {
   "cell_type": "code",
   "execution_count": 31,
   "metadata": {},
   "outputs": [
    {
     "data": {
      "text/plain": [
       "0.9333333333333333"
      ]
     },
     "execution_count": 31,
     "metadata": {},
     "output_type": "execute_result"
    }
   ],
   "source": [
    "clf.score(X_test, y_test)"
   ]
  },
  {
   "cell_type": "code",
   "execution_count": 32,
   "metadata": {},
   "outputs": [
    {
     "data": {
      "text/plain": [
       "0.9333333333333333"
      ]
     },
     "execution_count": 32,
     "metadata": {},
     "output_type": "execute_result"
    }
   ],
   "source": [
    "my_clf.score(X_test, y_test)"
   ]
  },
  {
   "cell_type": "markdown",
   "metadata": {},
   "source": [
    "Задание 3"
   ]
  },
  {
   "cell_type": "code",
   "execution_count": 33,
   "metadata": {},
   "outputs": [
    {
     "data": {
      "image/png": "[encoded data removed]",
      "text/plain": [
       "<Figure size 432x288 with 1 Axes>"
      ]
     },
     "metadata": {},
     "output_type": "display_data"
    }
   ],
   "source": [
    "#%%pycodestyle\n",
    "\n",
    "score_list = []\n",
    "for i in range(1, 100):\n",
    "    my_clf = MyKNeighborsClassifier(n_neighbors=i)\n",
    "    my_clf.fit(X_train, y_train)\n",
    "    score_list.append(my_clf.score(X_test, y_test))\n",
    "plt.plot(range(1, 100), score_list)\n",
    "\n",
    "plt.show()"
   ]
  },
  {
   "cell_type": "markdown",
   "metadata": {},
   "source": [
    "**MNIST**"
   ]
  },
  {
   "cell_type": "code",
   "execution_count": 34,
   "metadata": {
    "scrolled": true
   },
   "outputs": [],
   "source": [
    "from mnist import MNIST\n",
    "mndata = MNIST('mnistfolder')\n",
    "images, labels = mndata.load_training()\n",
    "#mnistdt = fetch_mldata()"
   ]
  },
  {
   "cell_type": "code",
   "execution_count": 37,
   "metadata": {},
   "outputs": [
    {
     "name": "stdout",
     "output_type": "stream",
     "text": [
      "(60000, 784)\n",
      "(60000,)\n"
     ]
    }
   ],
   "source": [
    "print(np.array(images).shape)\n",
    "print(np.array(labels).shape)"
   ]
  },
  {
   "cell_type": "code",
   "execution_count": 38,
   "metadata": {
    "scrolled": true
   },
   "outputs": [],
   "source": [
    "X_train, X_test, y_train, y_test = train_test_split(images, labels, test_size=0.01, stratify=labels)"
   ]
  },
  {
   "cell_type": "code",
   "execution_count": 39,
   "metadata": {},
   "outputs": [
    {
     "name": "stdout",
     "output_type": "stream",
     "text": [
      "int32\n",
      "int32\n",
      "int32\n",
      "int32\n",
      "(59400, 784)\n",
      "(600, 784)\n",
      "(59400,)\n",
      "(600,)\n"
     ]
    }
   ],
   "source": [
    "print(np.array(X_train).dtype)\n",
    "print(np.array(X_test).dtype)\n",
    "print(np.array(y_train).dtype)\n",
    "print(np.array(y_test).dtype)\n",
    "print(np.array(X_train).shape)\n",
    "print(np.array(X_test).shape)\n",
    "print(np.array(y_train).shape)\n",
    "print(np.array(y_test).shape)"
   ]
  },
  {
   "cell_type": "code",
   "execution_count": 40,
   "metadata": {},
   "outputs": [],
   "source": [
    "clf = KNeighborsClassifier(n_neighbors=2)\n",
    "my_clf = MyKNeighborsClassifier(n_neighbors=2)"
   ]
  },
  {
   "cell_type": "code",
   "execution_count": 41,
   "metadata": {},
   "outputs": [
    {
     "name": "stdout",
     "output_type": "stream",
     "text": [
      "Wall time: 50.7 s\n"
     ]
    },
    {
     "data": {
      "text/plain": [
       "KNeighborsClassifier(algorithm='auto', leaf_size=30, metric='minkowski',\n",
       "           metric_params=None, n_jobs=1, n_neighbors=2, p=2,\n",
       "           weights='uniform')"
      ]
     },
     "execution_count": 41,
     "metadata": {},
     "output_type": "execute_result"
    }
   ],
   "source": [
    "%time clf.fit(X_train, y_train)"
   ]
  },
  {
   "cell_type": "code",
   "execution_count": 42,
   "metadata": {},
   "outputs": [
    {
     "name": "stdout",
     "output_type": "stream",
     "text": [
      "Wall time: 3.77 s\n"
     ]
    }
   ],
   "source": [
    "%time my_clf.fit(X_train, y_train)"
   ]
  },
  {
   "cell_type": "code",
   "execution_count": 43,
   "metadata": {},
   "outputs": [
    {
     "name": "stdout",
     "output_type": "stream",
     "text": [
      "Wall time: 49.3 s\n"
     ]
    },
    {
     "data": {
      "text/plain": [
       "array([8, 3, 2, 2, 9, 0, 8, 0, 6, 0, 9, 4, 3, 0, 4, 2, 2, 2, 0, 9, 1, 6,\n",
       "       9, 7, 8, 9, 9, 8, 3, 7, 0, 4, 2, 7, 4, 6, 7, 6, 3, 6, 9, 9, 6, 2,\n",
       "       6, 9, 4, 8, 2, 5, 3, 3, 3, 0, 4, 1, 7, 3, 4, 0, 3, 5, 5, 8, 9, 3,\n",
       "       8, 5, 3, 6, 6, 1, 9, 3, 5, 6, 7, 4, 9, 1, 0, 4, 5, 0, 3, 6, 0, 0,\n",
       "       1, 5, 8, 4, 0, 6, 9, 0, 9, 6, 5, 6, 1, 3, 7, 5, 1, 3, 0, 6, 0, 1,\n",
       "       8, 0, 6, 1, 7, 3, 3, 6, 8, 6, 7, 0, 1, 4, 4, 3, 0, 3, 1, 1, 1, 8,\n",
       "       7, 6, 4, 4, 8, 2, 1, 3, 2, 2, 4, 7, 0, 8, 5, 3, 6, 7, 7, 6, 7, 7,\n",
       "       9, 8, 8, 8, 2, 6, 2, 7, 9, 6, 1, 5, 7, 9, 6, 8, 9, 9, 4, 8, 3, 5,\n",
       "       3, 3, 4, 8, 8, 3, 3, 3, 3, 1, 3, 7, 8, 4, 4, 7, 5, 9, 2, 2, 1, 3,\n",
       "       8, 2, 3, 6, 3, 2, 6, 2, 1, 9, 1, 8, 4, 2, 8, 6, 1, 1, 5, 1, 4, 5,\n",
       "       8, 1, 1, 5, 5, 7, 2, 9, 7, 4, 7, 1, 4, 6, 1, 2, 7, 1, 5, 6, 0, 5,\n",
       "       1, 1, 3, 0, 7, 8, 9, 0, 5, 5, 2, 0, 9, 9, 0, 9, 4, 7, 2, 7, 7, 8,\n",
       "       1, 1, 1, 4, 2, 9, 1, 0, 1, 0, 1, 3, 8, 3, 3, 4, 5, 2, 2, 9, 9, 1,\n",
       "       1, 4, 0, 7, 8, 6, 3, 4, 2, 7, 0, 6, 4, 7, 1, 5, 1, 6, 0, 4, 3, 7,\n",
       "       4, 1, 0, 5, 7, 0, 0, 9, 0, 6, 6, 9, 4, 3, 8, 0, 5, 3, 3, 7, 4, 2,\n",
       "       8, 6, 8, 7, 1, 1, 3, 3, 4, 1, 4, 7, 1, 8, 0, 0, 1, 1, 4, 6, 0, 9,\n",
       "       6, 4, 9, 4, 6, 0, 9, 0, 7, 0, 2, 7, 4, 0, 7, 3, 5, 4, 8, 5, 4, 4,\n",
       "       2, 5, 3, 9, 2, 6, 2, 9, 2, 1, 9, 9, 4, 8, 2, 8, 7, 3, 0, 8, 2, 5,\n",
       "       0, 8, 8, 8, 9, 5, 2, 2, 6, 3, 7, 8, 7, 3, 0, 6, 4, 6, 9, 4, 2, 5,\n",
       "       5, 5, 2, 1, 4, 5, 1, 8, 1, 7, 4, 2, 5, 6, 3, 2, 4, 7, 9, 4, 3, 5,\n",
       "       1, 5, 7, 7, 2, 4, 6, 1, 9, 1, 1, 7, 0, 5, 1, 0, 4, 5, 7, 1, 5, 2,\n",
       "       1, 8, 3, 6, 2, 2, 4, 5, 0, 8, 2, 6, 9, 8, 7, 3, 8, 7, 0, 1, 4, 7,\n",
       "       0, 5, 1, 3, 2, 1, 0, 2, 0, 6, 8, 8, 3, 9, 4, 5, 0, 0, 2, 6, 6, 1,\n",
       "       3, 3, 6, 1, 5, 5, 6, 6, 8, 8, 7, 8, 2, 4, 9, 4, 7, 6, 2, 4, 1, 3,\n",
       "       5, 9, 6, 5, 0, 8, 3, 7, 8, 7, 8, 0, 1, 3, 2, 2, 5, 7, 3, 4, 7, 9,\n",
       "       2, 5, 2, 1, 0, 5, 5, 4, 0, 0, 9, 1, 7, 7, 5, 5, 1, 3, 7, 6, 3, 3,\n",
       "       4, 5, 2, 2, 7, 4, 0, 9, 6, 1, 0, 9, 7, 7, 9, 0, 2, 7, 6, 6, 2, 1,\n",
       "       9, 5, 9, 7, 6, 3])"
      ]
     },
     "execution_count": 43,
     "metadata": {},
     "output_type": "execute_result"
    }
   ],
   "source": [
    "%time clf.predict(X_test)"
   ]
  },
  {
   "cell_type": "code",
   "execution_count": 44,
   "metadata": {},
   "outputs": [
    {
     "name": "stdout",
     "output_type": "stream",
     "text": [
      "Wall time: 11.6 s\n"
     ]
    },
    {
     "data": {
      "text/plain": [
       "array([8, 3, 2, 2, 9, 0, 8, 0, 6, 0, 9, 4, 3, 0, 4, 2, 2, 2, 0, 9, 1, 6,\n",
       "       9, 7, 8, 9, 9, 8, 3, 7, 0, 4, 2, 7, 4, 6, 7, 6, 3, 6, 9, 9, 6, 2,\n",
       "       6, 9, 4, 8, 2, 5, 3, 3, 3, 0, 4, 1, 7, 3, 4, 0, 3, 5, 5, 8, 9, 3,\n",
       "       8, 5, 3, 6, 6, 1, 9, 3, 5, 6, 7, 4, 9, 1, 0, 4, 5, 0, 3, 6, 0, 0,\n",
       "       1, 5, 8, 4, 0, 6, 9, 0, 9, 6, 5, 6, 1, 3, 7, 5, 1, 3, 0, 6, 0, 1,\n",
       "       8, 0, 6, 1, 7, 3, 3, 6, 8, 6, 7, 0, 1, 4, 4, 3, 0, 3, 1, 1, 1, 8,\n",
       "       7, 6, 4, 4, 8, 2, 1, 3, 2, 2, 4, 7, 0, 8, 5, 3, 6, 7, 7, 6, 7, 7,\n",
       "       9, 8, 8, 8, 2, 6, 2, 7, 9, 6, 1, 5, 7, 9, 6, 8, 9, 9, 4, 8, 3, 5,\n",
       "       3, 3, 4, 8, 8, 3, 3, 3, 3, 1, 3, 7, 8, 4, 4, 7, 5, 9, 2, 2, 1, 3,\n",
       "       8, 2, 3, 6, 3, 2, 6, 2, 1, 9, 1, 8, 4, 2, 8, 6, 1, 1, 5, 1, 4, 5,\n",
       "       8, 1, 1, 5, 5, 7, 2, 9, 7, 4, 7, 1, 4, 6, 1, 2, 7, 1, 5, 6, 0, 5,\n",
       "       1, 1, 3, 0, 7, 8, 9, 0, 5, 5, 2, 0, 9, 9, 0, 9, 4, 7, 2, 7, 7, 8,\n",
       "       1, 1, 1, 4, 2, 9, 1, 0, 1, 0, 1, 3, 8, 3, 3, 4, 5, 2, 2, 9, 9, 1,\n",
       "       1, 4, 0, 7, 8, 6, 3, 4, 2, 7, 0, 6, 4, 7, 1, 5, 1, 6, 0, 4, 3, 7,\n",
       "       4, 1, 0, 5, 7, 0, 0, 9, 0, 6, 6, 9, 4, 3, 8, 0, 5, 3, 3, 7, 4, 2,\n",
       "       8, 6, 8, 7, 1, 1, 3, 3, 4, 1, 4, 7, 1, 8, 0, 0, 1, 1, 4, 6, 0, 9,\n",
       "       6, 4, 9, 4, 6, 0, 9, 0, 7, 0, 2, 7, 4, 0, 7, 3, 5, 4, 8, 5, 4, 4,\n",
       "       2, 5, 3, 9, 2, 6, 2, 9, 2, 1, 9, 9, 4, 8, 2, 8, 7, 3, 0, 8, 2, 5,\n",
       "       0, 8, 8, 8, 9, 5, 2, 2, 6, 3, 7, 8, 7, 3, 0, 6, 4, 6, 9, 4, 2, 5,\n",
       "       5, 5, 2, 1, 4, 5, 1, 8, 1, 7, 4, 2, 5, 6, 3, 2, 4, 7, 9, 4, 3, 5,\n",
       "       1, 5, 7, 7, 2, 4, 6, 1, 9, 1, 1, 7, 0, 5, 1, 0, 4, 5, 7, 1, 5, 2,\n",
       "       1, 8, 3, 6, 2, 2, 4, 5, 0, 8, 2, 6, 9, 8, 7, 3, 8, 7, 0, 1, 4, 7,\n",
       "       0, 5, 1, 3, 2, 1, 0, 2, 0, 6, 8, 8, 3, 9, 4, 5, 0, 0, 2, 6, 6, 1,\n",
       "       3, 3, 6, 1, 5, 5, 6, 6, 8, 8, 7, 8, 2, 4, 9, 4, 7, 6, 2, 4, 1, 3,\n",
       "       5, 9, 6, 5, 0, 8, 3, 7, 8, 7, 8, 0, 1, 3, 2, 2, 5, 7, 3, 4, 7, 9,\n",
       "       2, 5, 2, 1, 0, 5, 5, 4, 0, 0, 9, 1, 7, 7, 5, 5, 1, 3, 7, 6, 3, 3,\n",
       "       4, 5, 2, 2, 7, 4, 0, 9, 6, 1, 0, 9, 7, 7, 9, 0, 2, 7, 6, 6, 2, 1,\n",
       "       9, 5, 9, 7, 6, 3], dtype=int64)"
      ]
     },
     "execution_count": 44,
     "metadata": {},
     "output_type": "execute_result"
    }
   ],
   "source": [
    "%time my_clf.predict(X_test)"
   ]
  },
  {
   "cell_type": "code",
   "execution_count": 45,
   "metadata": {},
   "outputs": [
    {
     "name": "stdout",
     "output_type": "stream",
     "text": [
      "Wall time: 4.24 s\n"
     ]
    },
    {
     "data": {
      "text/plain": [
       "array([[0. , 0. , 0. , 0. , 0. , 0. , 0. , 0. , 1. , 0. ],\n",
       "       [0. , 0. , 0. , 1. , 0. , 0. , 0. , 0. , 0. , 0. ],\n",
       "       [0. , 0. , 1. , 0. , 0. , 0. , 0. , 0. , 0. , 0. ],\n",
       "       [0. , 0. , 1. , 0. , 0. , 0. , 0. , 0. , 0. , 0. ],\n",
       "       [0. , 0. , 0. , 0. , 0. , 0. , 0. , 0. , 0. , 1. ],\n",
       "       [1. , 0. , 0. , 0. , 0. , 0. , 0. , 0. , 0. , 0. ],\n",
       "       [0. , 0. , 0. , 0. , 0. , 0. , 0. , 0. , 1. , 0. ],\n",
       "       [1. , 0. , 0. , 0. , 0. , 0. , 0. , 0. , 0. , 0. ],\n",
       "       [0. , 0. , 0. , 0. , 0. , 0. , 1. , 0. , 0. , 0. ],\n",
       "       [1. , 0. , 0. , 0. , 0. , 0. , 0. , 0. , 0. , 0. ],\n",
       "       [0. , 0. , 0. , 0. , 0. , 0. , 0. , 0. , 0. , 1. ],\n",
       "       [0. , 0. , 0. , 0. , 1. , 0. , 0. , 0. , 0. , 0. ],\n",
       "       [0. , 0. , 0. , 1. , 0. , 0. , 0. , 0. , 0. , 0. ],\n",
       "       [1. , 0. , 0. , 0. , 0. , 0. , 0. , 0. , 0. , 0. ],\n",
       "       [0. , 0. , 0. , 0. , 1. , 0. , 0. , 0. , 0. , 0. ],\n",
       "       [0. , 0. , 1. , 0. , 0. , 0. , 0. , 0. , 0. , 0. ],\n",
       "       [0. , 0. , 1. , 0. , 0. , 0. , 0. , 0. , 0. , 0. ],\n",
       "       [0. , 0. , 1. , 0. , 0. , 0. , 0. , 0. , 0. , 0. ],\n",
       "       [1. , 0. , 0. , 0. , 0. , 0. , 0. , 0. , 0. , 0. ],\n",
       "       [0. , 0. , 0. , 0. , 0. , 0. , 0. , 0. , 0. , 1. ],\n",
       "       [0. , 1. , 0. , 0. , 0. , 0. , 0. , 0. , 0. , 0. ],\n",
       "       [0. , 0. , 0. , 0. , 0. , 0. , 1. , 0. , 0. , 0. ],\n",
       "       [0. , 0. , 0. , 0. , 0. , 0. , 0. , 0. , 0. , 1. ],\n",
       "       [0. , 0. , 0. , 0. , 0. , 0. , 0. , 1. , 0. , 0. ],\n",
       "       [0. , 0. , 0. , 0. , 0. , 0. , 0. , 0. , 1. , 0. ],\n",
       "       [0. , 0. , 0. , 0. , 0. , 0. , 0. , 0. , 0. , 1. ],\n",
       "       [0. , 0. , 0. , 0. , 0. , 0. , 0. , 0. , 0. , 1. ],\n",
       "       [0. , 0. , 0. , 0. , 0. , 0. , 0. , 0. , 1. , 0. ],\n",
       "       [0. , 0. , 0. , 1. , 0. , 0. , 0. , 0. , 0. , 0. ],\n",
       "       [0. , 0. , 0. , 0. , 0. , 0. , 0. , 1. , 0. , 0. ],\n",
       "       [1. , 0. , 0. , 0. , 0. , 0. , 0. , 0. , 0. , 0. ],\n",
       "       [0. , 0. , 0. , 0. , 0.5, 0. , 0. , 0. , 0. , 0.5],\n",
       "       [0. , 0. , 1. , 0. , 0. , 0. , 0. , 0. , 0. , 0. ],\n",
       "       [0. , 0. , 0. , 0. , 0. , 0. , 0. , 1. , 0. , 0. ],\n",
       "       [0. , 0. , 0. , 0. , 1. , 0. , 0. , 0. , 0. , 0. ],\n",
       "       [0. , 0. , 0. , 0. , 0. , 0. , 1. , 0. , 0. , 0. ],\n",
       "       [0. , 0. , 0. , 0. , 0. , 0. , 0. , 1. , 0. , 0. ],\n",
       "       [0. , 0. , 0. , 0. , 0. , 0. , 1. , 0. , 0. , 0. ],\n",
       "       [0. , 0. , 0. , 1. , 0. , 0. , 0. , 0. , 0. , 0. ],\n",
       "       [0. , 0. , 0. , 0. , 0. , 0. , 1. , 0. , 0. , 0. ],\n",
       "       [0. , 0. , 0. , 0. , 0. , 0. , 0. , 0. , 0. , 1. ],\n",
       "       [0. , 0. , 0. , 0. , 0. , 0. , 0. , 0. , 0. , 1. ],\n",
       "       [0. , 0. , 0. , 0. , 0. , 0. , 1. , 0. , 0. , 0. ],\n",
       "       [0. , 0. , 1. , 0. , 0. , 0. , 0. , 0. , 0. , 0. ],\n",
       "       [0. , 0. , 0. , 0. , 0. , 0. , 1. , 0. , 0. , 0. ],\n",
       "       [0. , 0. , 0. , 0. , 0. , 0. , 0. , 0. , 0. , 1. ],\n",
       "       [0. , 0. , 0. , 0. , 0.5, 0. , 0. , 0. , 0. , 0.5],\n",
       "       [0. , 0. , 0. , 0. , 0. , 0. , 0. , 0. , 1. , 0. ],\n",
       "       [0. , 0. , 1. , 0. , 0. , 0. , 0. , 0. , 0. , 0. ],\n",
       "       [0. , 0. , 0. , 0. , 0. , 0.5, 0. , 0. , 0.5, 0. ]])"
      ]
     },
     "execution_count": 45,
     "metadata": {},
     "output_type": "execute_result"
    }
   ],
   "source": [
    "%time clf.predict_proba(X_test[:50])"
   ]
  },
  {
   "cell_type": "code",
   "execution_count": 46,
   "metadata": {},
   "outputs": [
    {
     "name": "stdout",
     "output_type": "stream",
     "text": [
      "Wall time: 847 ms\n"
     ]
    },
    {
     "data": {
      "text/plain": [
       "array([[0. , 0. , 0. , 0. , 0. , 0. , 0. , 0. , 1. , 0. ],\n",
       "       [0. , 0. , 0. , 1. , 0. , 0. , 0. , 0. , 0. , 0. ],\n",
       "       [0. , 0. , 1. , 0. , 0. , 0. , 0. , 0. , 0. , 0. ],\n",
       "       [0. , 0. , 1. , 0. , 0. , 0. , 0. , 0. , 0. , 0. ],\n",
       "       [0. , 0. , 0. , 0. , 0. , 0. , 0. , 0. , 0. , 1. ],\n",
       "       [1. , 0. , 0. , 0. , 0. , 0. , 0. , 0. , 0. , 0. ],\n",
       "       [0. , 0. , 0. , 0. , 0. , 0. , 0. , 0. , 1. , 0. ],\n",
       "       [1. , 0. , 0. , 0. , 0. , 0. , 0. , 0. , 0. , 0. ],\n",
       "       [0. , 0. , 0. , 0. , 0. , 0. , 1. , 0. , 0. , 0. ],\n",
       "       [1. , 0. , 0. , 0. , 0. , 0. , 0. , 0. , 0. , 0. ],\n",
       "       [0. , 0. , 0. , 0. , 0. , 0. , 0. , 0. , 0. , 1. ],\n",
       "       [0. , 0. , 0. , 0. , 1. , 0. , 0. , 0. , 0. , 0. ],\n",
       "       [0. , 0. , 0. , 1. , 0. , 0. , 0. , 0. , 0. , 0. ],\n",
       "       [1. , 0. , 0. , 0. , 0. , 0. , 0. , 0. , 0. , 0. ],\n",
       "       [0. , 0. , 0. , 0. , 1. , 0. , 0. , 0. , 0. , 0. ],\n",
       "       [0. , 0. , 1. , 0. , 0. , 0. , 0. , 0. , 0. , 0. ],\n",
       "       [0. , 0. , 1. , 0. , 0. , 0. , 0. , 0. , 0. , 0. ],\n",
       "       [0. , 0. , 1. , 0. , 0. , 0. , 0. , 0. , 0. , 0. ],\n",
       "       [1. , 0. , 0. , 0. , 0. , 0. , 0. , 0. , 0. , 0. ],\n",
       "       [0. , 0. , 0. , 0. , 0. , 0. , 0. , 0. , 0. , 1. ],\n",
       "       [0. , 1. , 0. , 0. , 0. , 0. , 0. , 0. , 0. , 0. ],\n",
       "       [0. , 0. , 0. , 0. , 0. , 0. , 1. , 0. , 0. , 0. ],\n",
       "       [0. , 0. , 0. , 0. , 0. , 0. , 0. , 0. , 0. , 1. ],\n",
       "       [0. , 0. , 0. , 0. , 0. , 0. , 0. , 1. , 0. , 0. ],\n",
       "       [0. , 0. , 0. , 0. , 0. , 0. , 0. , 0. , 1. , 0. ],\n",
       "       [0. , 0. , 0. , 0. , 0. , 0. , 0. , 0. , 0. , 1. ],\n",
       "       [0. , 0. , 0. , 0. , 0. , 0. , 0. , 0. , 0. , 1. ],\n",
       "       [0. , 0. , 0. , 0. , 0. , 0. , 0. , 0. , 1. , 0. ],\n",
       "       [0. , 0. , 0. , 1. , 0. , 0. , 0. , 0. , 0. , 0. ],\n",
       "       [0. , 0. , 0. , 0. , 0. , 0. , 0. , 1. , 0. , 0. ],\n",
       "       [1. , 0. , 0. , 0. , 0. , 0. , 0. , 0. , 0. , 0. ],\n",
       "       [0. , 0. , 0. , 0. , 0.5, 0. , 0. , 0. , 0. , 0.5],\n",
       "       [0. , 0. , 1. , 0. , 0. , 0. , 0. , 0. , 0. , 0. ],\n",
       "       [0. , 0. , 0. , 0. , 0. , 0. , 0. , 1. , 0. , 0. ],\n",
       "       [0. , 0. , 0. , 0. , 1. , 0. , 0. , 0. , 0. , 0. ],\n",
       "       [0. , 0. , 0. , 0. , 0. , 0. , 1. , 0. , 0. , 0. ],\n",
       "       [0. , 0. , 0. , 0. , 0. , 0. , 0. , 1. , 0. , 0. ],\n",
       "       [0. , 0. , 0. , 0. , 0. , 0. , 1. , 0. , 0. , 0. ],\n",
       "       [0. , 0. , 0. , 1. , 0. , 0. , 0. , 0. , 0. , 0. ],\n",
       "       [0. , 0. , 0. , 0. , 0. , 0. , 1. , 0. , 0. , 0. ],\n",
       "       [0. , 0. , 0. , 0. , 0. , 0. , 0. , 0. , 0. , 1. ],\n",
       "       [0. , 0. , 0. , 0. , 0. , 0. , 0. , 0. , 0. , 1. ],\n",
       "       [0. , 0. , 0. , 0. , 0. , 0. , 1. , 0. , 0. , 0. ],\n",
       "       [0. , 0. , 1. , 0. , 0. , 0. , 0. , 0. , 0. , 0. ],\n",
       "       [0. , 0. , 0. , 0. , 0. , 0. , 1. , 0. , 0. , 0. ],\n",
       "       [0. , 0. , 0. , 0. , 0. , 0. , 0. , 0. , 0. , 1. ],\n",
       "       [0. , 0. , 0. , 0. , 0.5, 0. , 0. , 0. , 0. , 0.5],\n",
       "       [0. , 0. , 0. , 0. , 0. , 0. , 0. , 0. , 1. , 0. ],\n",
       "       [0. , 0. , 1. , 0. , 0. , 0. , 0. , 0. , 0. , 0. ],\n",
       "       [0. , 0. , 0. , 0. , 0. , 0.5, 0. , 0. , 0.5, 0. ]])"
      ]
     },
     "execution_count": 46,
     "metadata": {},
     "output_type": "execute_result"
    }
   ],
   "source": [
    "%time my_clf.predict_proba(X_test[:50])"
   ]
  },
  {
   "cell_type": "code",
   "execution_count": 47,
   "metadata": {},
   "outputs": [
    {
     "data": {
      "text/plain": [
       "0.96"
      ]
     },
     "execution_count": 47,
     "metadata": {},
     "output_type": "execute_result"
    }
   ],
   "source": [
    "clf.score(X_test[:50], y_test[:50])"
   ]
  },
  {
   "cell_type": "code",
   "execution_count": 48,
   "metadata": {},
   "outputs": [
    {
     "data": {
      "text/plain": [
       "0.96"
      ]
     },
     "execution_count": 48,
     "metadata": {},
     "output_type": "execute_result"
    }
   ],
   "source": [
    "my_clf.score(X_test[:50], y_test[:50])"
   ]
  },
  {
   "cell_type": "markdown",
   "metadata": {},
   "source": [
    "Задание 4"
   ]
  },
  {
   "cell_type": "code",
   "execution_count": 49,
   "metadata": {},
   "outputs": [],
   "source": [
    "clf = KNeighborsClassifier(n_neighbors=2, algorithm='kd_tree')\n",
    "my_clf = MyKNeighborsClassifier(n_neighbors=2, algorithm='kd_tree')"
   ]
  },
  {
   "cell_type": "code",
   "execution_count": 50,
   "metadata": {},
   "outputs": [],
   "source": [
    "X_train, X_test, y_train, y_test = train_test_split(images, labels, test_size=0.01, stratify=labels)"
   ]
  },
  {
   "cell_type": "code",
   "execution_count": 51,
   "metadata": {},
   "outputs": [
    {
     "name": "stdout",
     "output_type": "stream",
     "text": [
      "Wall time: 1min 1s\n"
     ]
    },
    {
     "data": {
      "text/plain": [
       "KNeighborsClassifier(algorithm='kd_tree', leaf_size=30, metric='minkowski',\n",
       "           metric_params=None, n_jobs=1, n_neighbors=2, p=2,\n",
       "           weights='uniform')"
      ]
     },
     "execution_count": 51,
     "metadata": {},
     "output_type": "execute_result"
    }
   ],
   "source": [
    "%time clf.fit(X_train, y_train)"
   ]
  },
  {
   "cell_type": "code",
   "execution_count": 52,
   "metadata": {},
   "outputs": [
    {
     "name": "stdout",
     "output_type": "stream",
     "text": [
      "Wall time: 55.7 s\n"
     ]
    }
   ],
   "source": [
    "%time my_clf.fit(X_train, y_train)"
   ]
  },
  {
   "cell_type": "code",
   "execution_count": 55,
   "metadata": {},
   "outputs": [
    {
     "name": "stdout",
     "output_type": "stream",
     "text": [
      "Wall time: 54.3 s\n"
     ]
    },
    {
     "data": {
      "text/plain": [
       "array([6, 6, 3, 3, 1, 5, 7, 5, 8, 4, 1, 7, 7, 4, 0, 3, 5, 1, 4, 8, 9, 9,\n",
       "       8, 5, 4, 5, 9, 6, 8, 3, 4, 2, 4, 5, 0, 4, 0, 9, 8, 4, 4, 4, 1, 5,\n",
       "       4, 1, 4, 5, 2, 2, 6, 4, 7, 7, 0, 5, 3, 6, 9, 3, 4, 7, 3, 9, 7, 1,\n",
       "       3, 1, 3, 0, 8, 3, 1, 3, 1, 6, 5, 3, 7, 6, 6, 9, 3, 2, 1, 0, 2, 2,\n",
       "       1, 9, 9, 7, 7, 6, 6, 2, 1, 2, 0, 1, 4, 3, 3, 0, 7, 0, 0, 4, 7, 9,\n",
       "       4, 8, 1, 0, 9, 5, 3, 5, 7, 8, 5, 3, 7, 7, 6, 0, 5, 2, 7, 0, 3, 8,\n",
       "       1, 0, 7, 9, 7, 3, 2, 3, 0, 4, 1, 0, 1, 1, 6, 0, 4, 4, 1, 1, 2, 3,\n",
       "       4, 2, 0, 5, 2, 0, 1, 2, 2, 3, 5, 9, 9, 4, 2, 7, 1, 7, 7, 4, 0, 9,\n",
       "       6, 5, 1, 2, 3, 2, 1, 4, 1, 3, 1, 0, 8, 5, 0, 1, 4, 6, 6, 5, 2, 8,\n",
       "       0, 2, 9, 3, 3, 2, 7, 0, 1, 7, 6, 8, 6, 4, 9, 4, 6, 3, 3, 0, 9, 8,\n",
       "       8, 0, 3, 5, 2, 2, 6, 3, 4, 5, 6, 8, 1, 2, 0, 9, 9, 5, 5, 3, 4, 8,\n",
       "       7, 9, 3, 9, 1, 8, 0, 6, 2, 5, 6, 6, 7, 4, 3, 2, 8, 3, 6, 0, 4, 4,\n",
       "       0, 7, 4, 9, 2, 8, 9, 5, 4, 8, 5, 9, 2, 1, 7, 6, 4, 0, 2, 5, 1, 6,\n",
       "       9, 8, 0, 8, 1, 1, 9, 1, 0, 3, 9, 7, 5, 8, 1, 9, 7, 8, 6, 2, 6, 0,\n",
       "       8, 3, 4, 8, 2, 1, 2, 2, 5, 2, 7, 0, 2, 7, 0, 6, 2, 0, 7, 8, 9, 8,\n",
       "       0, 1, 4, 7, 1, 6, 5, 4, 7, 9, 5, 5, 3, 3, 8, 6, 9, 1, 8, 1, 8, 5,\n",
       "       8, 9, 9, 1, 6, 4, 6, 7, 2, 3, 9, 3, 1, 2, 5, 5, 8, 4, 7, 1, 3, 7,\n",
       "       9, 7, 0, 8, 1, 3, 8, 5, 7, 3, 6, 6, 9, 4, 2, 6, 8, 5, 5, 1, 7, 9,\n",
       "       6, 1, 7, 9, 0, 1, 6, 7, 8, 4, 2, 2, 7, 7, 6, 1, 1, 5, 3, 8, 6, 0,\n",
       "       2, 5, 5, 4, 0, 8, 7, 0, 7, 7, 4, 6, 0, 4, 6, 2, 5, 0, 7, 8, 6, 2,\n",
       "       5, 1, 2, 3, 9, 1, 0, 2, 3, 6, 9, 1, 8, 1, 6, 3, 3, 3, 8, 5, 0, 6,\n",
       "       4, 2, 3, 1, 7, 0, 0, 5, 4, 0, 4, 1, 4, 1, 7, 4, 2, 7, 3, 7, 0, 9,\n",
       "       8, 1, 2, 8, 5, 2, 3, 8, 8, 2, 6, 8, 1, 6, 4, 1, 1, 5, 6, 5, 7, 1,\n",
       "       3, 2, 2, 6, 3, 5, 6, 2, 9, 8, 9, 7, 3, 5, 6, 6, 4, 3, 4, 2, 1, 6,\n",
       "       0, 9, 7, 9, 1, 8, 4, 1, 8, 4, 8, 1, 2, 0, 3, 3, 1, 0, 6, 6, 1, 5,\n",
       "       1, 5, 8, 1, 8, 9, 7, 3, 6, 9, 6, 0, 1, 6, 9, 2, 1, 7, 9, 9, 2, 7,\n",
       "       9, 9, 6, 4, 3, 9, 0, 1, 9, 9, 8, 3, 2, 2, 7, 1, 5, 0, 9, 3, 7, 0,\n",
       "       4, 5, 5, 3, 3, 4])"
      ]
     },
     "execution_count": 55,
     "metadata": {},
     "output_type": "execute_result"
    }
   ],
   "source": [
    "%time clf.predict(X_test)"
   ]
  },
  {
   "cell_type": "code",
   "execution_count": 56,
   "metadata": {},
   "outputs": [
    {
     "name": "stdout",
     "output_type": "stream",
     "text": [
      "Wall time: 52.3 s\n"
     ]
    },
    {
     "data": {
      "text/plain": [
       "array([6, 6, 3, 3, 1, 5, 7, 5, 8, 4, 1, 7, 7, 4, 0, 3, 5, 1, 4, 8, 9, 9,\n",
       "       8, 5, 4, 5, 9, 6, 8, 3, 4, 2, 4, 5, 0, 4, 0, 9, 8, 4, 4, 4, 1, 5,\n",
       "       4, 1, 4, 5, 2, 2, 6, 4, 7, 7, 0, 5, 3, 6, 9, 3, 4, 7, 3, 9, 7, 1,\n",
       "       3, 1, 3, 0, 8, 3, 1, 3, 1, 6, 5, 3, 7, 6, 6, 9, 3, 2, 1, 0, 2, 2,\n",
       "       1, 9, 9, 7, 7, 6, 6, 2, 1, 2, 0, 1, 4, 3, 3, 0, 7, 0, 0, 4, 7, 9,\n",
       "       4, 8, 1, 0, 9, 5, 3, 5, 7, 8, 5, 3, 7, 7, 6, 0, 5, 2, 7, 0, 3, 8,\n",
       "       1, 0, 7, 9, 7, 3, 2, 3, 0, 4, 1, 0, 1, 1, 6, 0, 4, 4, 1, 1, 2, 3,\n",
       "       4, 2, 0, 5, 2, 0, 1, 2, 2, 3, 5, 9, 9, 4, 2, 7, 1, 7, 7, 4, 0, 9,\n",
       "       6, 5, 1, 2, 3, 2, 1, 4, 1, 3, 1, 0, 8, 5, 0, 1, 4, 6, 6, 5, 2, 8,\n",
       "       0, 2, 9, 3, 3, 2, 7, 0, 1, 7, 6, 8, 6, 4, 9, 4, 6, 3, 3, 0, 9, 8,\n",
       "       8, 0, 3, 5, 2, 2, 6, 3, 4, 5, 6, 8, 1, 2, 0, 9, 9, 5, 5, 3, 4, 8,\n",
       "       7, 9, 3, 9, 1, 8, 0, 6, 2, 5, 6, 6, 7, 4, 3, 2, 8, 3, 6, 0, 4, 4,\n",
       "       0, 7, 4, 9, 2, 8, 9, 5, 4, 8, 5, 9, 2, 1, 7, 6, 4, 0, 2, 5, 1, 6,\n",
       "       9, 8, 0, 8, 1, 1, 9, 1, 0, 3, 9, 7, 5, 8, 1, 9, 7, 8, 6, 2, 6, 0,\n",
       "       8, 3, 4, 8, 2, 1, 2, 2, 5, 2, 7, 0, 2, 7, 0, 6, 2, 0, 7, 8, 9, 8,\n",
       "       0, 1, 4, 7, 1, 6, 5, 4, 7, 9, 5, 5, 3, 3, 8, 6, 9, 1, 8, 1, 8, 5,\n",
       "       8, 9, 9, 1, 6, 4, 6, 7, 2, 3, 9, 3, 1, 2, 5, 5, 8, 4, 7, 1, 3, 7,\n",
       "       9, 7, 0, 8, 1, 3, 8, 5, 7, 3, 6, 6, 9, 4, 2, 6, 8, 5, 5, 1, 7, 9,\n",
       "       6, 1, 7, 9, 0, 1, 6, 7, 8, 4, 2, 2, 7, 7, 6, 1, 1, 5, 3, 8, 6, 0,\n",
       "       2, 5, 5, 4, 0, 8, 7, 0, 7, 7, 4, 6, 0, 4, 6, 2, 5, 0, 7, 8, 6, 2,\n",
       "       5, 1, 2, 3, 9, 1, 0, 2, 3, 6, 9, 1, 8, 1, 6, 3, 3, 3, 8, 5, 0, 6,\n",
       "       4, 2, 3, 1, 7, 0, 0, 5, 4, 0, 4, 1, 4, 1, 7, 4, 2, 7, 3, 7, 0, 9,\n",
       "       8, 1, 2, 8, 5, 2, 3, 8, 8, 2, 6, 8, 1, 6, 4, 1, 1, 5, 6, 5, 7, 1,\n",
       "       3, 2, 2, 6, 3, 5, 6, 2, 9, 8, 9, 7, 3, 5, 6, 6, 4, 3, 4, 2, 1, 6,\n",
       "       0, 9, 7, 9, 1, 8, 4, 1, 8, 4, 8, 1, 2, 0, 3, 3, 1, 0, 6, 6, 1, 5,\n",
       "       1, 5, 8, 1, 8, 9, 7, 3, 6, 9, 6, 0, 1, 6, 9, 2, 1, 7, 9, 9, 2, 7,\n",
       "       9, 9, 6, 4, 3, 9, 0, 1, 9, 9, 8, 3, 2, 2, 7, 1, 5, 0, 9, 3, 7, 0,\n",
       "       4, 5, 5, 3, 3, 4], dtype=int64)"
      ]
     },
     "execution_count": 56,
     "metadata": {},
     "output_type": "execute_result"
    }
   ],
   "source": [
    "%time my_clf.predict(X_test)"
   ]
  },
  {
   "cell_type": "code",
   "execution_count": 57,
   "metadata": {},
   "outputs": [
    {
     "name": "stdout",
     "output_type": "stream",
     "text": [
      "Wall time: 1min 14s\n"
     ]
    },
    {
     "data": {
      "text/plain": [
       "array([[0., 0., 0., ..., 0., 0., 0.],\n",
       "       [0., 0., 0., ..., 0., 0., 0.],\n",
       "       [0., 0., 0., ..., 0., 0., 0.],\n",
       "       ...,\n",
       "       [0., 0., 0., ..., 0., 0., 0.],\n",
       "       [0., 0., 0., ..., 0., 0., 0.],\n",
       "       [0., 0., 0., ..., 0., 0., 0.]])"
      ]
     },
     "execution_count": 57,
     "metadata": {},
     "output_type": "execute_result"
    }
   ],
   "source": [
    "%time clf.predict_proba(X_test)"
   ]
  },
  {
   "cell_type": "code",
   "execution_count": 58,
   "metadata": {},
   "outputs": [
    {
     "name": "stdout",
     "output_type": "stream",
     "text": [
      "Wall time: 55.7 s\n"
     ]
    },
    {
     "data": {
      "text/plain": [
       "array([[0., 0., 0., ..., 0., 0., 0.],\n",
       "       [0., 0., 0., ..., 0., 0., 0.],\n",
       "       [0., 0., 0., ..., 0., 0., 0.],\n",
       "       ...,\n",
       "       [0., 0., 0., ..., 0., 0., 0.],\n",
       "       [0., 0., 0., ..., 0., 0., 0.],\n",
       "       [0., 0., 0., ..., 0., 0., 0.]])"
      ]
     },
     "execution_count": 58,
     "metadata": {},
     "output_type": "execute_result"
    }
   ],
   "source": [
    "%time my_clf.predict_proba(X_test)"
   ]
  },
  {
   "cell_type": "code",
   "execution_count": 59,
   "metadata": {},
   "outputs": [
    {
     "data": {
      "text/plain": [
       "0.9683333333333334"
      ]
     },
     "execution_count": 59,
     "metadata": {},
     "output_type": "execute_result"
    }
   ],
   "source": [
    "clf.score(X_test, y_test)"
   ]
  },
  {
   "cell_type": "code",
   "execution_count": 60,
   "metadata": {},
   "outputs": [
    {
     "data": {
      "text/plain": [
       "0.9683333333333334"
      ]
     },
     "execution_count": 60,
     "metadata": {},
     "output_type": "execute_result"
    }
   ],
   "source": [
    "my_clf.score(X_test, y_test)"
   ]
  },
  {
   "cell_type": "markdown",
   "metadata": {},
   "source": [
    "Задание 5"
   ]
  },
  {
   "cell_type": "code",
   "execution_count": 5,
   "metadata": {},
   "outputs": [],
   "source": [
    "# seaborn - для визуализации статистических моделей, различных многомерных данных\n",
    "# matplotlib - для визуализации данных, построения графиков, на ней основана seaborn\n",
    "# train_test_split - для деления выборки данных на тренировочную и тестовую\n",
    "# Pipelin%load_ext e (from sklearn.pipeline import Pipeline) - для поочерёдного выполнения действий с данными, чей-то вывод подаёт кому-то на ввод\n",
    "# StandardScaler (from sklearn.preprocessing import StandardScaler) - для приведения данных к одинаковому виду, центрируя и нормируя\n",
    "# ClassifierMixin - для наследования от него классификаторов из scikit-learn\n",
    "# NeighborsBase - для оценок ближайших соседей\n",
    "# KNeighborsMixin - для поиска ближайших соседей\n",
    "# SupervisedIntegerMixin - для обучения реализации классификатора на заданных данных и значениях"
   ]
  },
  {
   "cell_type": "code",
   "execution_count": null,
   "metadata": {},
   "outputs": [],
   "source": []
  },
  {
   "cell_type": "code",
   "execution_count": null,
   "metadata": {},
   "outputs": [],
   "source": []
  },
  {
   "cell_type": "code",
   "execution_count": null,
   "metadata": {},
   "outputs": [],
   "source": []
  },
  {
   "cell_type": "code",
   "execution_count": null,
   "metadata": {},
   "outputs": [],
   "source": []
  }
 ],
 "metadata": {
  "kernelspec": {
   "display_name": "Python 3",
   "language": "python",
   "name": "python3"
  },
  "language_info": {
   "codemirror_mode": {
    "name": "ipython",
    "version": 3
   },
   "file_extension": ".py",
   "mimetype": "text/x-python",
   "name": "python",
   "nbconvert_exporter": "python",
   "pygments_lexer": "ipython3",
   "version": "3.6.5"
  }
 },
 "nbformat": 4,
 "nbformat_minor": 2
}
